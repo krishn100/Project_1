{
 "cells": [
  {
   "cell_type": "markdown",
   "id": "d694eeb0",
   "metadata": {},
   "source": [
    "# Create Custom Portfolio: 12 months Before \n",
    "## Time Period: November 2017 to October 2018\n",
    "In this section, we chose three stocks from the top six invested in industries, calculate the returns, and compare the results to determine which industry performed best\n",
    "\n",
    "1. Choose 3 stocks with at last 1 year's worth of historic prices and create a DataFrame of the closing prices and dates for each stock.\n",
    "2. Calculate the weighted returns for the portfolio assuming an equal number of shares for each stock\n",
    "3. Join your portfolio returns to the DataFrame that contains all of the portfolio returns\n",
    "4. Re-run the performance and risk analysis with your portfolio to see how it compares to the others\n",
    "5. Include correlation analysis to determine which stocks (if any) are correlated"
   ]
  },
  {
   "cell_type": "markdown",
   "id": "c6085b36",
   "metadata": {},
   "source": [
    "## Choose 3-5 custom stocks with at last 1 year's worth of historic prices and create a DataFrame of the closing prices and dates for each stock."
   ]
  },
  {
   "cell_type": "code",
   "execution_count": 12,
   "id": "6a008aa5",
   "metadata": {},
   "outputs": [],
   "source": [
    "import yfinance as yf\n",
    "\n",
    "# Initial imports\n",
    "import pandas as pd\n",
    "import numpy as np\n",
    "import datetime as dt\n",
    "from pathlib import Path\n",
    "import matplotlib.pyplot as plt"
   ]
  },
  {
   "cell_type": "markdown",
   "id": "841014a0",
   "metadata": {},
   "source": [
    "## Technology Sector\n",
    "These are the three stocks we chose within the Technology Industry"
   ]
  },
  {
   "cell_type": "code",
   "execution_count": 13,
   "id": "7b32099f",
   "metadata": {},
   "outputs": [
    {
     "name": "stderr",
     "output_type": "stream",
     "text": [
      "[*********************100%%**********************]  1 of 1 completed\n"
     ]
    }
   ],
   "source": [
    "# Define the stock ticker and date range: Apple Inc. \n",
    "AAPL_stock = 'AAPL'\n",
    "start_date = '2017-11-01'  # example start date\n",
    "end_date = '2018-10-31'    # example end date\n",
    "\n",
    "# Download the stock data\n",
    "data_AAPL = yf.download(AAPL_stock, start=start_date, end=end_date)\n",
    "\n",
    "# Print the type of the data\n",
    "#print(type(data_AAPL))\n",
    "\n",
    "# Print the first few columns of the data\n",
    "#print(data_AAPL.iloc[:, :5])  # This prints the first three columns of the DataFrame"
   ]
  },
  {
   "cell_type": "code",
   "execution_count": 14,
   "id": "2eeb51ad",
   "metadata": {},
   "outputs": [
    {
     "name": "stderr",
     "output_type": "stream",
     "text": [
      "[*********************100%%**********************]  1 of 1 completed\n"
     ]
    }
   ],
   "source": [
    "# Define the stock ticker and date range: Microsoft \n",
    "MSFT_stock = 'MSFT'\n",
    "start_date = '2017-11-01'  # example start date\n",
    "end_date = '2018-10-31'    # example end date\n",
    "\n",
    "# Download the stock data\n",
    "data_MSFT = yf.download(MSFT_stock, start=start_date, end=end_date)\n",
    "\n",
    "# Print the type of the data\n",
    "#print(type(data_MSFT))\n",
    "\n",
    "# Print the first few columns of the data\n",
    "#print(data_MSFT.iloc[:, :5])  # This prints the first three columns of the DataFrame"
   ]
  },
  {
   "cell_type": "code",
   "execution_count": 15,
   "id": "29505cc9",
   "metadata": {},
   "outputs": [
    {
     "name": "stderr",
     "output_type": "stream",
     "text": [
      "[*********************100%%**********************]  1 of 1 completed\n"
     ]
    }
   ],
   "source": [
    "# Define the stock ticker and date range: Google \n",
    "GOOG_stock = 'GOOG'\n",
    "start_date = '2017-11-01'  # example start date\n",
    "end_date = '2018-10-31'    # example end date\n",
    "\n",
    "# Download the stock data\n",
    "data_GOOG = yf.download(GOOG_stock, start=start_date, end=end_date)\n",
    "\n",
    "# Print the type of the data\n",
    "#print(type(data_GOOG))\n",
    "\n",
    "# Print the first few columns of the data\n",
    "#print(data_GOOG.iloc[:, :5])  # This prints the first three columns of the DataFrame"
   ]
  },
  {
   "cell_type": "markdown",
   "id": "d130962b",
   "metadata": {},
   "source": [
    "## Healthcare Sector \n",
    "These are the three stocks we chose in the Healthcare Industry"
   ]
  },
  {
   "cell_type": "code",
   "execution_count": 16,
   "id": "e03ed623",
   "metadata": {},
   "outputs": [
    {
     "name": "stderr",
     "output_type": "stream",
     "text": [
      "[*********************100%%**********************]  1 of 1 completed\n"
     ]
    }
   ],
   "source": [
    "# Define the stock ticker and date range: Johnson and Johnson \n",
    "JNJ_stock = 'JNJ'\n",
    "start_date = '2017-11-01'  # example start date\n",
    "end_date = '2018-10-31'    # example end date\n",
    "\n",
    "# Download the stock data\n",
    "data_JNJ = yf.download(JNJ_stock, start=start_date, end=end_date)\n",
    "\n",
    "# Print the type of the data\n",
    "#print(type(data_JNJ))\n",
    "\n",
    "# Print the first few columns of the data\n",
    "#print(data_JNJ.iloc[:, :5])  # This prints the first three columns of the DataFrame"
   ]
  },
  {
   "cell_type": "code",
   "execution_count": 17,
   "id": "aa561407",
   "metadata": {},
   "outputs": [
    {
     "name": "stderr",
     "output_type": "stream",
     "text": [
      "[*********************100%%**********************]  1 of 1 completed\n"
     ]
    }
   ],
   "source": [
    "# Define the stock ticker and date range: Pfizer Inc\n",
    "PFE_stock = 'PFE'\n",
    "start_date = '2017-11-01'  # example start date\n",
    "end_date = '2018-10-31'    # example end date\n",
    "\n",
    "# Download the stock data\n",
    "data_PFE = yf.download(PFE_stock, start=start_date, end=end_date)\n",
    "\n",
    "# Print the type of the data\n",
    "#print(type(data_PFE))\n",
    "\n",
    "# Print the first few columns of the data\n",
    "#print(data_PFE.iloc[:, :5])  # This prints the first three columns of the DataFrame"
   ]
  },
  {
   "cell_type": "code",
   "execution_count": 18,
   "id": "30dc468e",
   "metadata": {},
   "outputs": [
    {
     "name": "stderr",
     "output_type": "stream",
     "text": [
      "[*********************100%%**********************]  1 of 1 completed"
     ]
    },
    {
     "name": "stdout",
     "output_type": "stream",
     "text": [
      "<class 'pandas.core.frame.DataFrame'>\n",
      "                  Open        High         Low       Close   Adj Close\n",
      "Date                                                                  \n",
      "2017-11-01  211.619995  212.630005  208.919998  209.529999  191.210831\n",
      "2017-11-02  210.110001  211.490005  209.009995  211.100006  192.643585\n",
      "2017-11-03  210.720001  213.830002  210.100006  212.869995  194.258789\n",
      "2017-11-06  211.910004  213.929993  211.800003  212.119995  193.574341\n",
      "2017-11-07  212.740005  213.539993  210.889999  212.699997  194.103699\n",
      "...                ...         ...         ...         ...         ...\n",
      "2018-10-24  264.010010  265.329987  255.929993  256.320007  237.107162\n",
      "2018-10-25  258.160004  265.179993  253.369995  264.239990  244.433456\n",
      "2018-10-26  261.500000  262.399994  257.019989  258.179993  238.827667\n",
      "2018-10-29  259.720001  262.040009  253.320007  256.519989  237.292130\n",
      "2018-10-30  256.690002  259.690002  253.979996  258.279999  238.920197\n",
      "\n",
      "[251 rows x 5 columns]\n"
     ]
    },
    {
     "name": "stderr",
     "output_type": "stream",
     "text": [
      "\n"
     ]
    }
   ],
   "source": [
    "# Define the stock ticker and date range: United Health Group\n",
    "UNH_stock = 'UNH'\n",
    "start_date = '2017-11-01'  # example start date\n",
    "end_date = '2018-10-31'    # example end date\n",
    "\n",
    "# Download the stock data\n",
    "data_UNH = yf.download(UNH_stock, start=start_date, end=end_date)\n",
    "\n",
    "# Print the type of the data\n",
    "print(type(data_UNH))\n",
    "\n",
    "# Print the first few columns of the data\n",
    "print(data_UNH.iloc[:, :5])  # This prints the first three columns of the DataFrame"
   ]
  },
  {
   "cell_type": "markdown",
   "id": "f8b69275",
   "metadata": {},
   "source": [
    "## Financials Sector \n",
    "These are the three stocks we chose in the Healthcare Industry"
   ]
  },
  {
   "cell_type": "code",
   "execution_count": 19,
   "id": "ef9694ae",
   "metadata": {},
   "outputs": [
    {
     "name": "stderr",
     "output_type": "stream",
     "text": [
      "[*********************100%%**********************]  1 of 1 completed\n"
     ]
    }
   ],
   "source": [
    "# Define the stock ticker and date range: JPMorgan Chase and Co. \n",
    "JPM_stock = 'JPM'\n",
    "start_date = '2017-11-01'  # example start date\n",
    "end_date = '2018-10-31'    # example end date\n",
    "\n",
    "# Download the stock data\n",
    "data_JPM = yf.download(JPM_stock, start=start_date, end=end_date)\n",
    "\n",
    "# Print the type of the data\n",
    "#print(type(data_JPM))\n",
    "\n",
    "# Print the first few columns of the data\n",
    "#print(data_JPM.iloc[:, :5])  # This prints the first three columns of the DataFrame"
   ]
  },
  {
   "cell_type": "code",
   "execution_count": 20,
   "id": "0b2987e0",
   "metadata": {},
   "outputs": [
    {
     "name": "stderr",
     "output_type": "stream",
     "text": [
      "[*********************100%%**********************]  1 of 1 completed\n"
     ]
    }
   ],
   "source": [
    "# Define the stock ticker and date range: Bank of America \n",
    "BAC_stock = 'BAC'\n",
    "start_date = '2017-11-01'  # example start date\n",
    "end_date = '2018-10-31'    # example end date\n",
    "\n",
    "# Download the stock data\n",
    "data_BAC = yf.download(BAC_stock, start=start_date, end=end_date)\n",
    "\n",
    "# Print the type of the data\n",
    "#print(type(data_BAC))\n",
    "\n",
    "# Print the first few columns of the data\n",
    "#print(data_BAC.iloc[:, :5])  # This prints the first three columns of the DataFrame"
   ]
  },
  {
   "cell_type": "code",
   "execution_count": 21,
   "id": "5bafc0b5",
   "metadata": {},
   "outputs": [
    {
     "name": "stderr",
     "output_type": "stream",
     "text": [
      "[*********************100%%**********************]  1 of 1 completed\n"
     ]
    }
   ],
   "source": [
    "# Define the stock ticker and date range: Visa\n",
    "V_stock = 'V'\n",
    "start_date = '2017-11-01'  # example start date\n",
    "end_date = '2018-10-31'    # example end date\n",
    "\n",
    "# Download the stock data\n",
    "data_V = yf.download(V_stock, start=start_date, end=end_date)\n",
    "\n",
    "# Print the type of the data\n",
    "#print(type(data_V))\n",
    "\n",
    "# Print the first few columns of the data\n",
    "#print(data_V.iloc[:, :5])  # This prints the first three columns of the DataFrame"
   ]
  },
  {
   "cell_type": "markdown",
   "id": "90a42818",
   "metadata": {},
   "source": [
    "## Consumer Discretionary \n",
    "These are the three stocks we chose in the consumer discretionary industry: Amazon, Nike, and Walt Disney Company"
   ]
  },
  {
   "cell_type": "code",
   "execution_count": 22,
   "id": "fbf613c0",
   "metadata": {},
   "outputs": [
    {
     "ename": "SyntaxError",
     "evalue": "invalid decimal literal (3073827083.py, line 4)",
     "output_type": "error",
     "traceback": [
      "\u001b[0;36m  Cell \u001b[0;32mIn[22], line 4\u001b[0;36m\u001b[0m\n\u001b[0;31m    def make_api_request(https://www.alphavantage.co/query?function=TIME_SERIES_DAILY&symbol=AAPL&apikey=6YC9WZLBB5H3QVCB):\u001b[0m\n\u001b[0m                                                                                                         ^\u001b[0m\n\u001b[0;31mSyntaxError\u001b[0m\u001b[0;31m:\u001b[0m invalid decimal literal\n"
     ]
    }
   ],
   "source": [
    "import requests\n",
    "import time\n",
    "\n",
    "def make_api_request(https://www.alphavantage.co/query?function=TIME_SERIES_DAILY&symbol=AAPL&apikey=6YC9WZLBB5H3QVCB):\n",
    "    try:\n",
    "        response = requests.get(https://www.alphavantage.co/query?function=TIME_SERIES_DAILY&symbol=AAPL&apikey=6YC9WZLBB5H3QVCB)\n",
    "        \n",
    "        # Check if the response indicates hitting rate limit\n",
    "        if response.status_code == 429:\n",
    "            # If rate limited, implement backoff strategy\n",
    "            retry_after = int(response.headers.get('Retry-After', 5))  # Default to 5 seconds if Retry-After header is not provided\n",
    "            print(f\"Hit rate limit. Retrying after {retry_after} seconds.\")\n",
    "            time.sleep(retry_after)\n",
    "            # Retry the request recursively\n",
    "            return make_api_request(url)\n",
    "        \n",
    "        # Check for other possible errors\n",
    "        response.raise_for_status()\n",
    "        \n",
    "        # If everything is fine, return the response\n",
    "        return response\n",
    "    \n",
    "    except requests.exceptions.RequestException as e:\n",
    "        # Handle other types of errors (e.g., network issues)\n",
    "        print(f\"Error: {e}\")\n",
    "        return None\n",
    "\n",
    "# Example usage\n",
    "api_url = \"https://api.example.com/data\"\n",
    "response = make_api_request(api_url)\n",
    "\n",
    "if response is not None:\n",
    "    # Process the response\n",
    "    print(response.json())\n",
    "else:\n",
    "    print(\"Failed to fetch data from the API.\")\n"
   ]
  },
  {
   "cell_type": "code",
   "execution_count": 23,
   "id": "4e57c73c",
   "metadata": {},
   "outputs": [
    {
     "name": "stderr",
     "output_type": "stream",
     "text": [
      "[*********************100%%**********************]  1 of 1 completed\n",
      "\n",
      "1 Failed download:\n",
      "['AMZN']: ValueError('unconverted data remains:  ')\n"
     ]
    }
   ],
   "source": [
    "# Define the stock ticker and date range: Amazon\n",
    "AMZN_stock = 'AMZN'\n",
    "start_date = '2017-11-01 '  # example start date\n",
    "end_date = '2018-10-31'    # example end date\n",
    "\n",
    "# Download the stock data\n",
    "data_AMZN = yf.download(AMZN_stock, start=start_date, end=end_date)\n",
    "\n",
    "# Print the type of the data\n",
    "#print(type(data_AMZN))\n",
    "\n",
    "# Print the first few columns of the data\n",
    "#print(data_AMZN.iloc[:, :5])  # This prints the first three columns of the DataFrame"
   ]
  },
  {
   "cell_type": "code",
   "execution_count": null,
   "id": "026d881d",
   "metadata": {},
   "outputs": [],
   "source": [
    "# Define the stock ticker and date range: Nike\n",
    "NKE_stock = 'NKE'\n",
    "start_date = '2017-11-01 '  # example start date\n",
    "end_date = '2018-10-31'    # example end date\n",
    "\n",
    "# Download the stock data\n",
    "data_NKE = yf.download(NKE_stock, start=start_date, end=end_date)\n",
    "\n",
    "# Print the type of the data\n",
    "#print(type(data_NKE))\n",
    "\n",
    "# Print the first few columns of the data\n",
    "#print(data_NKE.iloc[:, :5])  # This prints the first three columns of the DataFrame"
   ]
  },
  {
   "cell_type": "code",
   "execution_count": null,
   "id": "617dea59",
   "metadata": {},
   "outputs": [],
   "source": [
    "# Define the stock ticker and date range: Walt Disney Company \n",
    "DIS_stock = 'DIS'\n",
    "start_date = '2021-11-01'  # example start date\n",
    "end_date = '2022-10-31'    # example end date\n",
    "\n",
    "# Download the stock data\n",
    "data_DIS = yf.download(DIS_stock, start=start_date, end=end_date)\n",
    "\n",
    "# Print the type of the data\n",
    "#print(type(data_DIS))\n",
    "\n",
    "# Print the first few columns of the data\n",
    "#print(data_DIS.iloc[:, :5])  # This prints the first three columns of the DataFrame"
   ]
  },
  {
   "cell_type": "markdown",
   "id": "a82e2c50",
   "metadata": {},
   "source": [
    "## Energy Sector \n",
    "These are the three stocks we chose in the energy industry: Exxon Mobile Incorporation, First Solar Inc. , NextEra Energy Resources "
   ]
  },
  {
   "cell_type": "code",
   "execution_count": null,
   "id": "e14f99c2",
   "metadata": {},
   "outputs": [],
   "source": [
    "# Define the stock ticker and date range: Exxon Mobile Incorporation\n",
    "XOM_stock = 'XOM'\n",
    "start_date = '2021-11-01'  # example start date\n",
    "end_date = '2022-10-31'    # example end date\n",
    "\n",
    "# Download the stock data\n",
    "data_XOM = yf.download(XOM_stock, start=start_date, end=end_date)\n",
    "\n",
    "# Print the type of the data\n",
    "#print(type(data_XOM))\n",
    "\n",
    "# Print the first few columns of the data\n",
    "#print(data_XOM.iloc[:, :5])  # This prints the first three columns of the DataFrame"
   ]
  },
  {
   "cell_type": "code",
   "execution_count": null,
   "id": "a0b40af8",
   "metadata": {},
   "outputs": [],
   "source": [
    "# Define the stock ticker and date range: First Solar Inc. \n",
    "FSLR_stock = 'FSLR'\n",
    "start_date = '2021-11-01'  # example start date\n",
    "end_date = '2022-10-31'    # example end date\n",
    "\n",
    "# Download the stock data\n",
    "data_FSLR = yf.download(FSLR_stock, start=start_date, end=end_date)\n",
    "\n",
    "# Print the type of the data\n",
    "#print(type(data_FSLR))\n",
    "\n",
    "# Print the first few columns of the data\n",
    "#print(data_FSLR.iloc[:, :5])  # This prints the first three columns of the DataFrame"
   ]
  },
  {
   "cell_type": "code",
   "execution_count": null,
   "id": "40b336a2",
   "metadata": {},
   "outputs": [],
   "source": [
    "# Define the stock ticker and date range: NextEra Energy Resources\n",
    "NEE_stock = 'NEE'\n",
    "start_date = '2021-11-01'  # example start date\n",
    "end_date = '2022-10-31'    # example end date\n",
    "\n",
    "# Download the stock data\n",
    "data_NEE = yf.download(NEE_stock, start=start_date, end=end_date)\n",
    "\n",
    "# Print the type of the data\n",
    "#print(type(data_NEE))\n",
    "\n",
    "# Print the first few columns of the data\n",
    "#print(data_NEE.iloc[:, :5])  # This prints the first three columns of the DataFrame"
   ]
  },
  {
   "cell_type": "markdown",
   "id": "63844053",
   "metadata": {},
   "source": [
    "## Weapons Manufacturing \n",
    "These are the three stocks we chose in the weapons manufacturing instury: Lockheed Martin Corporation, Raytheon Technologies Corporations (RTX), Northrup Grumman Corporation (NOC) "
   ]
  },
  {
   "cell_type": "code",
   "execution_count": null,
   "id": "17c5a1b1",
   "metadata": {},
   "outputs": [],
   "source": [
    "# Define the stock ticker and date range: Lockheed Martin Corporation\n",
    "LMT_stock = 'LMT'\n",
    "start_date = '2021-11-01'  # example start date\n",
    "end_date = '2022-10-31'    # example end date\n",
    "\n",
    "# Download the stock data\n",
    "data_LMT = yf.download(LMT_stock, start=start_date, end=end_date)\n",
    "\n",
    "# Print the type of the data\n",
    "#print(type(data_LMT))\n",
    "\n",
    "# Print the first few columns of the data\n",
    "#print(data_LMT.iloc[:, :5])  # This prints the first three columns of the DataFrame"
   ]
  },
  {
   "cell_type": "code",
   "execution_count": null,
   "id": "11380938",
   "metadata": {},
   "outputs": [],
   "source": [
    "# Define the stock ticker and date range: Raytheon Technologies Corporation\n",
    "RTX_stock = 'RTX'\n",
    "start_date = '2021-11-01'  # example start date\n",
    "end_date = '2022-10-31'    # example end date\n",
    "\n",
    "# Download the stock data\n",
    "data_RTX = yf.download(RTX_stock, start=start_date, end=end_date)\n",
    "\n",
    "# Print the type of the data\n",
    "#print(type(data_RTX))\n",
    "\n",
    "# Print the first few columns of the data\n",
    "#print(data_RTX.iloc[:, :5])  # This prints the first three columns of the DataFrame"
   ]
  },
  {
   "cell_type": "code",
   "execution_count": null,
   "id": "7a69afba",
   "metadata": {},
   "outputs": [],
   "source": [
    "# Define the stock ticker and date range: Northrup Grumman Corporation\n",
    "NOC_stock = 'NOC'\n",
    "start_date = '2021-11-01'  # example start date\n",
    "end_date = '2022-10-31'    # example end date\n",
    "\n",
    "# Download the stock data\n",
    "data_NOC = yf.download(NOC_stock, start=start_date, end=end_date)\n",
    "\n",
    "# Print the type of the data\n",
    "#print(type(data_NOC))\n",
    "\n",
    "# Print the first few columns of the data\n",
    "#print(data_NOC.iloc[:, :5])  # This prints the first three columns of the DataFrame"
   ]
  },
  {
   "cell_type": "markdown",
   "id": "865c2afa",
   "metadata": {},
   "source": [
    "## Combined Stocks Dataframe"
   ]
  },
  {
   "cell_type": "code",
   "execution_count": null,
   "id": "edb9dfa8",
   "metadata": {},
   "outputs": [],
   "source": [
    "# Combine all stocks into a single Dataframe \n",
    "custom_portfolio_df = pd.concat([data_AAPL,data_MSFT,data_GOOG,data_JNJ,data_PFE,data_UNH,data_JPM,data_BAC,data_V,data_AMZN,data_NKE,data_DIS,data_XOM,data_FSLR,data_NEE,data_LMT,data_RTX,data_NOC], axis=\"columns\", join=\"inner\")\n",
    "custom_portfolio_df.head()"
   ]
  },
  {
   "cell_type": "code",
   "execution_count": null,
   "id": "5ad1cadd",
   "metadata": {},
   "outputs": [],
   "source": [
    "small_df=custom_portfolio_df['Close']\n",
    "small_df.columns=['AAPL','MSFT', 'GOOG', 'JNJ','PFE','UNH','JPM','BAC','V','AMZN','NKE','DIS','XOM','FSLR','NEE','LMT','RTX','NOC']\n",
    "small_df"
   ]
  },
  {
   "cell_type": "markdown",
   "id": "1fc284ec",
   "metadata": {},
   "source": [
    "### Technology Dataframe"
   ]
  },
  {
   "cell_type": "code",
   "execution_count": null,
   "id": "113cdc10",
   "metadata": {},
   "outputs": [],
   "source": [
    "tech_df=small_df[['AAPL','MSFT','GOOG']]\n",
    "tech_df"
   ]
  },
  {
   "cell_type": "markdown",
   "id": "207a644b",
   "metadata": {},
   "source": [
    "### Healthcare Dataframe"
   ]
  },
  {
   "cell_type": "code",
   "execution_count": null,
   "id": "4d62722b",
   "metadata": {},
   "outputs": [],
   "source": [
    "health_df=small_df[['JNJ','PFE','UNH']]\n",
    "health_df"
   ]
  },
  {
   "cell_type": "markdown",
   "id": "47efb6b4",
   "metadata": {},
   "source": [
    "### Financials Dataframe"
   ]
  },
  {
   "cell_type": "code",
   "execution_count": null,
   "id": "b573adae",
   "metadata": {},
   "outputs": [],
   "source": [
    "finance_df=small_df[['JPM','BAC','V']]\n",
    "finance_df"
   ]
  },
  {
   "cell_type": "markdown",
   "id": "976f8d9d",
   "metadata": {},
   "source": [
    "### Consumer Discretionary Dataframe"
   ]
  },
  {
   "cell_type": "code",
   "execution_count": null,
   "id": "fad14ba4",
   "metadata": {},
   "outputs": [],
   "source": [
    "consumer_df=small_df[['AMZN','NKE','DIS']]\n",
    "consumer_df"
   ]
  },
  {
   "cell_type": "markdown",
   "id": "1c98df3c",
   "metadata": {},
   "source": [
    "### Energy Dataframe "
   ]
  },
  {
   "cell_type": "code",
   "execution_count": null,
   "id": "8a2ccb20",
   "metadata": {},
   "outputs": [],
   "source": [
    "energy_df=small_df[['XOM','FSLR','NEE']]\n",
    "energy_df"
   ]
  },
  {
   "cell_type": "markdown",
   "id": "47726a63",
   "metadata": {},
   "source": [
    "### Weapons Manufacturing Dataframe"
   ]
  },
  {
   "cell_type": "code",
   "execution_count": null,
   "id": "46d57326",
   "metadata": {},
   "outputs": [],
   "source": [
    "weapons_df=small_df[['LMT','RTX','NOC']]\n",
    "weapons_df"
   ]
  },
  {
   "cell_type": "markdown",
   "id": "a9e9f3a5",
   "metadata": {},
   "source": [
    "# Calculate: Daily Returns and Weighted Returns"
   ]
  },
  {
   "cell_type": "code",
   "execution_count": null,
   "id": "13e5d5c4",
   "metadata": {},
   "outputs": [],
   "source": [
    "# Calculate daily returns, drop nas, and display the data \n",
    "# Tech Daily Returns \n",
    "tech_daily = tech_df.pct_change().dropna()\n",
    "tech_daily.head()\n",
    "\n",
    "# Healthcare Daily Returns \n",
    "health_daily = health_df.pct_change().dropna()\n",
    "health_daily.head()\n",
    "\n",
    "# Financials Daily Returns \n",
    "finance_daily = finance_df.pct_change().dropna()\n",
    "finance_daily.head()\n",
    "\n",
    "# Consumer Discretionary Daily Returns \n",
    "consumer_daily = consumer_df.pct_change().dropna()\n",
    "consumer_daily.head()\n",
    "\n",
    "# Energy Daily Returns \n",
    "energy_daily = energy_df.pct_change().dropna()\n",
    "energy_daily.head()\n",
    "\n",
    "# Weapons Manufacturing Daily Returns \n",
    "weapons_daily = weapons_df.pct_change().dropna()\n",
    "weapons_daily.head()\n",
    "\n",
    "combined_daily_returns = pd.concat([\n",
    "    tech_daily.head(),\n",
    "    health_daily.head(),\n",
    "    finance_daily.head(),\n",
    "    consumer_daily.head(),\n",
    "    energy_daily.head(),\n",
    "    weapons_daily.head()\n",
    "], axis=1)\n",
    "\n",
    "# Rename the columns for clarity\n",
    "combined_daily_returns.columns = ['AAPL','MSFT', 'GOOG', 'JNJ','PFE','UNH','JPM','BAC','V','AMZN','NKE','DIS','XOM','FSLR','NEE','LMT','RTX','NOC']\n",
    "\n",
    "# Display the combined DataFrame\n",
    "print(combined_daily_returns.head())\n",
    "\n",
    "# Set weights\n",
    "weights = [1/3, 1/3, 1/3]\n",
    "\n",
    "# Define a dictionary containing the daily returns for each sector\n",
    "daily_returns_dict = {\n",
    "    \"Tech\": tech_daily,\n",
    "    \"Health\": health_daily,\n",
    "    \"Finance\": finance_daily,\n",
    "    \"Consumer\": consumer_daily,\n",
    "    \"Energy\": energy_daily,\n",
    "    \"Weapons\": weapons_daily\n",
    "}\n",
    "\n",
    "# Create an empty dictionary to store the returns for each sector\n",
    "sector_returns = {}\n",
    "\n",
    "# Calculate the returns for each sector and store them in the dictionary\n",
    "for sector, combined_daily_returns in daily_returns_dict.items():\n",
    "    sector_returns[sector] = (weights * combined_daily_returns).sum(axis=1)\n",
    "\n",
    "# Create a DataFrame from the sector_returns dictionary\n",
    "returns_df = pd.DataFrame(sector_returns)\n",
    "\n",
    "# Display the DataFrame\n",
    "print(returns_df)"
   ]
  },
  {
   "cell_type": "markdown",
   "id": "cca746b4",
   "metadata": {},
   "source": [
    "# Risk Analysis Performance \n",
    "1. Cumulative Returns\n",
    "2. Annualized Standard Deviation \n",
    "3. Annualized Sharpe Ratios (Reward to Risk)\n",
    "4. Covariance and Variance \n",
    "5. BETA"
   ]
  },
  {
   "cell_type": "markdown",
   "id": "ed664118",
   "metadata": {},
   "source": [
    "## Cumulative Returns"
   ]
  },
  {
   "cell_type": "code",
   "execution_count": null,
   "id": "9a28a027",
   "metadata": {},
   "outputs": [],
   "source": [
    "# Calculate Cumulative Returns \n",
    "cumulative_returns = (1 + returns_df).cumprod()\n",
    "print(cumulative_returns)\n",
    "\n",
    "# Export and save Cumulative Returns dataframe into a csv file \n",
    "cumulative_returns.to_csv('cumulative_returns_data4.csv', index=False)\n",
    "\n",
    "# Plot Cumulative Returns \n",
    "cumulative_returns.plot(figsize=(10, 6))  # Adjust figsize as needed\n",
    "plt.title('Cumulative Returns of Each Industry')\n",
    "plt.xlabel('Date')\n",
    "plt.ylabel('Cumulative Returns')\n",
    "plt.grid(True)\n",
    "plt.legend()\n",
    "plt.show()"
   ]
  },
  {
   "cell_type": "markdown",
   "id": "9be59e2e",
   "metadata": {},
   "source": [
    "## Annualized Standard Deviation "
   ]
  },
  {
   "cell_type": "code",
   "execution_count": null,
   "id": "def340b9",
   "metadata": {},
   "outputs": [],
   "source": [
    "# Calculate the daily standard deviation \n",
    "daily_std_dev = np.std(returns_df)\n",
    "print(daily_std_dev)"
   ]
  },
  {
   "cell_type": "code",
   "execution_count": null,
   "id": "ec4468c4",
   "metadata": {},
   "outputs": [],
   "source": [
    "# Calculate the annualized standard deviation (252 trading days)\n",
    "annualized_std = daily_std_dev * np.sqrt(252)\n",
    "\n",
    "# Plot the Annualized standard deviation\n",
    "annualized_std.plot.bar(figsize=(10, 6))  # Adjust figsize as needed\n",
    "plt.title('Annualized Standard Deviation of Each Industry')\n",
    "plt.xlabel('Industry')\n",
    "plt.ylabel('Annualized Standard Deviation')\n",
    "plt.grid(True)\n",
    "plt.legend()\n",
    "plt.show()"
   ]
  },
  {
   "cell_type": "markdown",
   "id": "f75cba56",
   "metadata": {},
   "source": [
    "## Sharpe Ratios"
   ]
  },
  {
   "cell_type": "code",
   "execution_count": null,
   "id": "f06123ff",
   "metadata": {},
   "outputs": [],
   "source": [
    "# Annualized Sharpe Ratios \n",
    "sharpe_ratios = (returns_df.mean() * 252) / (returns_df.std() * np.sqrt(252))\n",
    "sharpe_ratios \n",
    "\n",
    "# Visualize the sharpe ratios as a bar plot\n",
    "sharpe_ratios.plot(kind='bar', color='skyblue', figsize=(10, 6))\n",
    "\n",
    "# Customizing the plot\n",
    "plt.title('Sharpe Ratios of Each Industry')\n",
    "plt.xlabel('Industry')\n",
    "plt.ylabel('Sharpe Ratio')\n",
    "plt.xticks(rotation=45)  # Rotate x-axis labels for better readability\n",
    "plt.grid(axis='y', linestyle='--', alpha=0.7)  # Adding grid lines\n",
    "\n",
    "# Adding data labels\n",
    "for i, val in enumerate(sharpe_ratios.values):\n",
    "    plt.text(i, val, round(val, 2), ha='center', va='bottom')\n",
    "\n",
    "# Adding horizontal line at Sharpe ratio of 0 for reference\n",
    "plt.axhline(y=0, color='gray', linestyle='--', linewidth=0.5)\n",
    "\n",
    "# Show plot\n",
    "plt.tight_layout()  # Adjust layout to prevent clipping of labels\n",
    "plt.show()"
   ]
  },
  {
   "cell_type": "markdown",
   "id": "101dc808",
   "metadata": {},
   "source": [
    "# Create Custom Portfolio: 12 months After \n",
    "## Time Period: November 2022 to October 2023\n",
    "In this section, we chose three stocks from the top six invested in industries, calculate the returns, and compare the results to determine which industry performed best\n",
    "\n",
    "1. Choose 3 stocks with at last 1 year's worth of historic prices and create a DataFrame of the closing prices and dates for each stock.\n",
    "2. Calculate the weighted returns for the portfolio assuming an equal number of shares for each stock\n",
    "3. Join your portfolio returns to the DataFrame that contains all of the portfolio returns\n",
    "4. Re-run the performance and risk analysis with your portfolio to see how it compares to the others\n",
    "5. Include correlation analysis to determine which stocks (if any) are correlated"
   ]
  },
  {
   "cell_type": "markdown",
   "id": "5dd4a065",
   "metadata": {},
   "source": [
    "## Choose 3-5 custom stocks with at last 1 year's worth of historic prices and create a DataFrame of the closing prices and dates for each stock."
   ]
  },
  {
   "cell_type": "markdown",
   "id": "ffd08ed1",
   "metadata": {},
   "source": [
    "## Technology Sector\n",
    "These are the three stocks we chose within the Technology Industry"
   ]
  },
  {
   "cell_type": "code",
   "execution_count": null,
   "id": "c1cb2135",
   "metadata": {},
   "outputs": [],
   "source": [
    "# Define the stock ticker and date range: Apple Inc. \n",
    "AAPL_stock = 'AAPL'\n",
    "start_date = '2022-11-01'  # example start date\n",
    "end_date = '2023-10-31'    # example end date\n",
    "\n",
    "# Download the stock data\n",
    "data_AAPL = yf.download(AAPL_stock, start=start_date, end=end_date)\n",
    "\n",
    "# Print the type of the data\n",
    "#print(type(data_AAPL))\n",
    "\n",
    "# Print the first few columns of the data\n",
    "#print(data_AAPL.iloc[:, :5])  # This prints the first three columns of the DataFrame"
   ]
  },
  {
   "cell_type": "code",
   "execution_count": null,
   "id": "339fc1d9",
   "metadata": {},
   "outputs": [],
   "source": [
    "# Define the stock ticker and date range: Microsoft \n",
    "MSFT_stock = 'MSFT'\n",
    "start_date = '2022-11-01'  # example start date\n",
    "end_date = '2023-10-31'    # example end date\n",
    "\n",
    "# Download the stock data\n",
    "data_MSFT = yf.download(MSFT_stock, start=start_date, end=end_date)\n",
    "\n",
    "# Print the type of the data\n",
    "#print(type(data_MSFT))\n",
    "\n",
    "# Print the first few columns of the data\n",
    "#print(data_MSFT.iloc[:, :5])  # This prints the first three columns of the DataFrame"
   ]
  },
  {
   "cell_type": "code",
   "execution_count": null,
   "id": "030ba095",
   "metadata": {},
   "outputs": [],
   "source": [
    "# Define the stock ticker and date range: Google \n",
    "GOOG_stock = 'GOOG'\n",
    "start_date = '2022-11-01'  # example start date\n",
    "end_date = '2023-10-31'    # example end date\n",
    "\n",
    "# Download the stock data\n",
    "data_GOOG = yf.download(GOOG_stock, start=start_date, end=end_date)\n",
    "\n",
    "# Print the type of the data\n",
    "#print(type(data_GOOG))\n",
    "\n",
    "# Print the first few columns of the data\n",
    "#print(data_GOOG.iloc[:, :5])  # This prints the first three columns of the DataFrame"
   ]
  },
  {
   "cell_type": "markdown",
   "id": "9d0cffac",
   "metadata": {},
   "source": [
    "## Healthcare Sector \n",
    "These are the three stocks we chose in the Healthcare Industry"
   ]
  },
  {
   "cell_type": "code",
   "execution_count": null,
   "id": "fe9106ad",
   "metadata": {},
   "outputs": [],
   "source": [
    "# Define the stock ticker and date range: Johnson and Johnson \n",
    "JNJ_stock = 'JNJ'\n",
    "start_date = '2022-11-01'  # example start date\n",
    "end_date = '2023-10-31'    # example end date\n",
    "\n",
    "# Download the stock data\n",
    "data_JNJ = yf.download(JNJ_stock, start=start_date, end=end_date)\n",
    "\n",
    "# Print the type of the data\n",
    "#print(type(data_JNJ))\n",
    "\n",
    "# Print the first few columns of the data\n",
    "#print(data_JNJ.iloc[:, :5])  # This prints the first three columns of the DataFrame"
   ]
  },
  {
   "cell_type": "code",
   "execution_count": null,
   "id": "fc30c9fc",
   "metadata": {},
   "outputs": [],
   "source": [
    "# Define the stock ticker and date range: Pfizer Inc\n",
    "PFE_stock = 'PFE'\n",
    "start_date = '2022-11-01'  # example start date\n",
    "end_date = '2023-10-31'    # example end date\n",
    "\n",
    "# Download the stock data\n",
    "data_PFE = yf.download(PFE_stock, start=start_date, end=end_date)\n",
    "\n",
    "# Print the type of the data\n",
    "#print(type(data_PFE))\n",
    "\n",
    "# Print the first few columns of the data\n",
    "#print(data_PFE.iloc[:, :5])  # This prints the first three columns of the DataFrame"
   ]
  },
  {
   "cell_type": "code",
   "execution_count": null,
   "id": "729df1d3",
   "metadata": {},
   "outputs": [],
   "source": [
    "# Define the stock ticker and date range: United Health Group\n",
    "UNH_stock = 'UNH'\n",
    "start_date = '2022-11-01'  # example start date\n",
    "end_date = '2023-10-31'    # example end date\n",
    "\n",
    "# Download the stock data\n",
    "data_UNH = yf.download(UNH_stock, start=start_date, end=end_date)\n",
    "\n",
    "# Print the type of the data\n",
    "#print(type(data_UNH))\n",
    "\n",
    "# Print the first few columns of the data\n",
    "#print(data_UNH.iloc[:, :5])  # This prints the first three columns of the DataFrame"
   ]
  },
  {
   "cell_type": "markdown",
   "id": "9e2f32d7",
   "metadata": {},
   "source": [
    "# Financials Sector \n",
    "These are the three stocks we chose in the Healthcare Industry"
   ]
  },
  {
   "cell_type": "code",
   "execution_count": null,
   "id": "7790e755",
   "metadata": {},
   "outputs": [],
   "source": [
    "# Define the stock ticker and date range: JPMorgan Chase and Co. \n",
    "JPM_stock = 'JPM'\n",
    "start_date = '2022-11-01'  # example start date\n",
    "end_date = '2023-10-31'    # example end date\n",
    "\n",
    "# Download the stock data\n",
    "data_JPM = yf.download(JPM_stock, start=start_date, end=end_date)\n",
    "\n",
    "# Print the type of the data\n",
    "#print(type(data_JPM))\n",
    "\n",
    "# Print the first few columns of the data\n",
    "#print(data_JPM.iloc[:, :5])  # This prints the first three columns of the DataFrame"
   ]
  },
  {
   "cell_type": "code",
   "execution_count": null,
   "id": "530a84fc",
   "metadata": {},
   "outputs": [],
   "source": [
    "# Define the stock ticker and date range: Bank of America \n",
    "BAC_stock = 'BAC'\n",
    "start_date = '2022-11-01'  # example start date\n",
    "end_date = '2023-10-31'    # example end date\n",
    "\n",
    "# Download the stock data\n",
    "data_BAC = yf.download(BAC_stock, start=start_date, end=end_date)\n",
    "\n",
    "# Print the type of the data\n",
    "#print(type(data_BAC))\n",
    "\n",
    "# Print the first few columns of the data\n",
    "#print(data_BAC.iloc[:, :5])  # This prints the first three columns of the DataFrame"
   ]
  },
  {
   "cell_type": "code",
   "execution_count": null,
   "id": "eecbef7e",
   "metadata": {},
   "outputs": [],
   "source": [
    "# Define the stock ticker and date range: Visa\n",
    "V_stock = 'V'\n",
    "start_date = '2022-11-01'  # example start date\n",
    "end_date = '2023-10-31'    # example end date\n",
    "\n",
    "# Download the stock data\n",
    "data_V = yf.download(V_stock, start=start_date, end=end_date)\n",
    "\n",
    "# Print the type of the data\n",
    "#print(type(data_V))\n",
    "\n",
    "# Print the first few columns of the data\n",
    "#print(data_V.iloc[:, :5])  # This prints the first three columns of the DataFrame"
   ]
  },
  {
   "cell_type": "markdown",
   "id": "cf2a3487",
   "metadata": {},
   "source": [
    "## Consumer Discretionary \n",
    "These are the three stocks we chose in the consumer discretionary industry: Amazon, Nike, and Walt Disney Company"
   ]
  },
  {
   "cell_type": "code",
   "execution_count": null,
   "id": "898cb861",
   "metadata": {},
   "outputs": [],
   "source": [
    "# Define the stock ticker and date range: Amazon\n",
    "AMZN_stock = 'AMZN'\n",
    "start_date = '2022-11-01'  # example start date\n",
    "end_date = '2023-10-31'    # example end date\n",
    "\n",
    "# Download the stock data\n",
    "data_AMZN = yf.download(AMZN_stock, start=start_date, end=end_date)\n",
    "\n",
    "# Print the type of the data\n",
    "#print(type(data_AMZN))\n",
    "\n",
    "# Print the first few columns of the data\n",
    "#print(data_AMZN.iloc[:, :5])  # This prints the first three columns of the DataFrame"
   ]
  },
  {
   "cell_type": "code",
   "execution_count": null,
   "id": "15ccfc36",
   "metadata": {},
   "outputs": [],
   "source": [
    "# Define the stock ticker and date range: Nike\n",
    "NKE_stock = 'NKE'\n",
    "start_date = '2022-11-01'  # example start date\n",
    "end_date = '2023-10-31'    # example end date\n",
    "\n",
    "# Download the stock data\n",
    "data_NKE = yf.download(NKE_stock, start=start_date, end=end_date)\n",
    "\n",
    "# Print the type of the data\n",
    "#print(type(data_NKE))\n",
    "\n",
    "# Print the first few columns of the data\n",
    "#print(data_NKE.iloc[:, :5])  # This prints the first three columns of the DataFrame"
   ]
  },
  {
   "cell_type": "code",
   "execution_count": null,
   "id": "4f38dcf7",
   "metadata": {},
   "outputs": [],
   "source": [
    "# Define the stock ticker and date range: Walt Disney Company \n",
    "DIS_stock = 'DIS'\n",
    "start_date = '2022-11-01'  # example start date\n",
    "end_date = '2023-10-31'    # example end date\n",
    "\n",
    "# Download the stock data\n",
    "data_DIS = yf.download(DIS_stock, start=start_date, end=end_date)\n",
    "\n",
    "# Print the type of the data\n",
    "#print(type(data_DIS))\n",
    "\n",
    "# Print the first few columns of the data\n",
    "#print(data_DIS.iloc[:, :5])  # This prints the first three columns of the DataFrame"
   ]
  },
  {
   "cell_type": "markdown",
   "id": "e62c069d",
   "metadata": {},
   "source": [
    "## Energy Sector \n",
    "These are the three stocks we chose in the energy industry: Exxon Mobile Incorporation, First Solar Inc. , NextEra Energy Resources "
   ]
  },
  {
   "cell_type": "code",
   "execution_count": null,
   "id": "897e7473",
   "metadata": {},
   "outputs": [],
   "source": [
    "# Define the stock ticker and date range: Exxon Mobile Incorporation\n",
    "XOM_stock = 'XOM'\n",
    "start_date = '2022-11-01'  # example start date\n",
    "end_date = '2023-10-31'    # example end date\n",
    "\n",
    "# Download the stock data\n",
    "data_XOM = yf.download(XOM_stock, start=start_date, end=end_date)\n",
    "\n",
    "# Print the type of the data\n",
    "#print(type(data_XOM))\n",
    "\n",
    "# Print the first few columns of the data\n",
    "#print(data_XOM.iloc[:, :5])  # This prints the first three columns of the DataFrame"
   ]
  },
  {
   "cell_type": "code",
   "execution_count": null,
   "id": "6d779524",
   "metadata": {},
   "outputs": [],
   "source": [
    "# Define the stock ticker and date range: First Solar Inc. \n",
    "FSLR_stock = 'FSLR'\n",
    "start_date = '2022-11-01'  # example start date\n",
    "end_date = '2023-10-31'    # example end date\n",
    "\n",
    "# Download the stock data\n",
    "data_FSLR = yf.download(FSLR_stock, start=start_date, end=end_date)\n",
    "\n",
    "# Print the type of the data\n",
    "#print(type(data_FSLR))\n",
    "\n",
    "# Print the first few columns of the data\n",
    "#print(data_FSLR.iloc[:, :5])  # This prints the first three columns of the DataFrame"
   ]
  },
  {
   "cell_type": "code",
   "execution_count": null,
   "id": "787f1f4b",
   "metadata": {},
   "outputs": [],
   "source": [
    "# Define the stock ticker and date range: NextEra Energy Resources\n",
    "NEE_stock = 'NEE'\n",
    "start_date = '2022-11-01'  # example start date\n",
    "end_date = '2023-10-31'    # example end date\n",
    "\n",
    "# Download the stock data\n",
    "data_NEE = yf.download(NEE_stock, start=start_date, end=end_date)\n",
    "\n",
    "# Print the type of the data\n",
    "#print(type(data_NEE))\n",
    "\n",
    "# Print the first few columns of the data\n",
    "#print(data_NEE.iloc[:, :5])  # This prints the first three columns of the DataFrame"
   ]
  },
  {
   "cell_type": "markdown",
   "id": "5dc220fc",
   "metadata": {},
   "source": [
    "## Weapons Manufacturing \n",
    "These are the three stocks we chose in the weapons manufacturing instury: Lockheed Martin Corporation, Raytheon Technologies Corporations (RTX), Northrup Grumman Corporation (NOC)  "
   ]
  },
  {
   "cell_type": "code",
   "execution_count": null,
   "id": "1464dad3",
   "metadata": {},
   "outputs": [],
   "source": [
    "# Define the stock ticker and date range: Lockheed Martin Corporation\n",
    "LMT_stock = 'LMT'\n",
    "start_date = '2022-11-01'  # example start date\n",
    "end_date = '2023-10-31'    # example end date\n",
    "\n",
    "# Download the stock data\n",
    "data_LMT = yf.download(LMT_stock, start=start_date, end=end_date)\n",
    "\n",
    "# Print the type of the data\n",
    "#print(type(data_LMT))\n",
    "\n",
    "# Print the first few columns of the data\n",
    "#print(data_LMT.iloc[:, :5])  # This prints the first three columns of the DataFrame"
   ]
  },
  {
   "cell_type": "code",
   "execution_count": null,
   "id": "194551fa",
   "metadata": {},
   "outputs": [],
   "source": [
    "# Define the stock ticker and date range: Raytheon Technologies Corporation\n",
    "RTX_stock = 'RTX'\n",
    "start_date = '2022-11-01'  # example start date\n",
    "end_date = '2023-10-31'    # example end date\n",
    "\n",
    "# Download the stock data\n",
    "data_RTX = yf.download(RTX_stock, start=start_date, end=end_date)\n",
    "\n",
    "# Print the type of the data\n",
    "#print(type(data_RTX))\n",
    "\n",
    "# Print the first few columns of the data\n",
    "#print(data_RTX.iloc[:, :5])  # This prints the first three columns of the DataFrame"
   ]
  },
  {
   "cell_type": "code",
   "execution_count": null,
   "id": "5fb44776",
   "metadata": {},
   "outputs": [],
   "source": [
    "# Define the stock ticker and date range: Northrup Grumman Corporation\n",
    "NOC_stock = 'NOC'\n",
    "start_date = '2022-11-01'  # example start date\n",
    "end_date = '2023-10-31'    # example end date\n",
    "\n",
    "# Download the stock data\n",
    "data_NOC = yf.download(NOC_stock, start=start_date, end=end_date)\n",
    "\n",
    "# Print the type of the data\n",
    "#print(type(data_NOC))\n",
    "\n",
    "# Print the first few columns of the data\n",
    "#print(data_NOC.iloc[:, :5])  # This prints the first three columns of the DataFrame"
   ]
  },
  {
   "cell_type": "markdown",
   "id": "6045156b",
   "metadata": {},
   "source": [
    "## Combined Stocks Dataframe"
   ]
  },
  {
   "cell_type": "code",
   "execution_count": null,
   "id": "ab75fa83",
   "metadata": {},
   "outputs": [],
   "source": [
    "# Combine all stocks into a single Dataframe \n",
    "custom_portfolio_df = pd.concat([data_AAPL,data_MSFT,data_GOOG,data_JNJ,data_PFE,data_UNH,data_JPM,data_BAC,data_V,data_AMZN,data_NKE,data_DIS,data_XOM,data_FSLR,data_NEE,data_LMT,data_RTX,data_NOC], axis=\"columns\", join=\"inner\")\n",
    "custom_portfolio_df.head()"
   ]
  },
  {
   "cell_type": "code",
   "execution_count": null,
   "id": "d7cf0814",
   "metadata": {},
   "outputs": [],
   "source": [
    "small_df=custom_portfolio_df['Close']\n",
    "small_df.columns=['AAPL','MSFT', 'GOOG', 'JNJ','PFE','UNH','JPM','BAC','V','AMZN','NKE','DIS','XOM','FSLR','NEE','LMT','RTX','NOC']\n",
    "small_df"
   ]
  },
  {
   "cell_type": "markdown",
   "id": "b0fc1c0d",
   "metadata": {},
   "source": [
    "### Technology Dataframe"
   ]
  },
  {
   "cell_type": "code",
   "execution_count": null,
   "id": "830368e1",
   "metadata": {},
   "outputs": [],
   "source": [
    "tech_df=small_df[['AAPL','MSFT','GOOG']]\n",
    "tech_df"
   ]
  },
  {
   "cell_type": "markdown",
   "id": "33f6cff9",
   "metadata": {},
   "source": [
    "### Healthcare Dataframe"
   ]
  },
  {
   "cell_type": "code",
   "execution_count": null,
   "id": "9acf36f1",
   "metadata": {},
   "outputs": [],
   "source": [
    "health_df=small_df[['JNJ','PFE','UNH']]\n",
    "health_df"
   ]
  },
  {
   "cell_type": "markdown",
   "id": "f9df2883",
   "metadata": {},
   "source": [
    "### Financials Dataframe"
   ]
  },
  {
   "cell_type": "code",
   "execution_count": null,
   "id": "6e6a96b0",
   "metadata": {},
   "outputs": [],
   "source": [
    "finance_df=small_df[['JPM','BAC','V']]\n",
    "finance_df"
   ]
  },
  {
   "cell_type": "markdown",
   "id": "bb3bd9c7",
   "metadata": {},
   "source": [
    "### Consumer Discretionary Dataframe"
   ]
  },
  {
   "cell_type": "code",
   "execution_count": null,
   "id": "aa5e2b55",
   "metadata": {},
   "outputs": [],
   "source": [
    "consumer_df=small_df[['AMZN','NKE','DIS']]\n",
    "consumer_df"
   ]
  },
  {
   "cell_type": "markdown",
   "id": "af32c207",
   "metadata": {},
   "source": [
    "### Energy Dataframe "
   ]
  },
  {
   "cell_type": "code",
   "execution_count": null,
   "id": "b040c8e8",
   "metadata": {},
   "outputs": [],
   "source": [
    "energy_df=small_df[['XOM','FSLR','NEE']]\n",
    "energy_df"
   ]
  },
  {
   "cell_type": "markdown",
   "id": "b03a2e73",
   "metadata": {},
   "source": [
    "### Weapons Manufacturing Dataframe "
   ]
  },
  {
   "cell_type": "code",
   "execution_count": null,
   "id": "38ee2014",
   "metadata": {},
   "outputs": [],
   "source": [
    "weapons_df=small_df[['LMT','RTX','NOC']]\n",
    "weapons_df"
   ]
  },
  {
   "cell_type": "markdown",
   "id": "adddb6d9",
   "metadata": {},
   "source": [
    "# Calculate: Daily Returns and Weighted Returns"
   ]
  },
  {
   "cell_type": "code",
   "execution_count": null,
   "id": "696e6920",
   "metadata": {},
   "outputs": [],
   "source": [
    "# Calculate daily returns, drop nas, and display the data \n",
    "# Tech Daily Returns \n",
    "tech_daily = tech_df.pct_change().dropna()\n",
    "tech_daily.head()\n",
    "\n",
    "# Healthcare Daily Returns \n",
    "health_daily = health_df.pct_change().dropna()\n",
    "health_daily.head()\n",
    "\n",
    "# Financials Daily Returns \n",
    "finance_daily = finance_df.pct_change().dropna()\n",
    "finance_daily.head()\n",
    "\n",
    "# Consumer Discretionary Daily Returns \n",
    "consumer_daily = consumer_df.pct_change().dropna()\n",
    "consumer_daily.head()\n",
    "\n",
    "# Energy Daily Returns \n",
    "energy_daily = energy_df.pct_change().dropna()\n",
    "energy_daily.head()\n",
    "\n",
    "# Weapons Manufacturing Daily Returns \n",
    "weapons_daily = weapons_df.pct_change().dropna()\n",
    "weapons_daily.head()\n",
    "\n",
    "combined_daily_returns = pd.concat([\n",
    "    tech_daily.head(),\n",
    "    health_daily.head(),\n",
    "    finance_daily.head(),\n",
    "    consumer_daily.head(),\n",
    "    energy_daily.head(),\n",
    "    weapons_daily.head()\n",
    "], axis=1)\n",
    "\n",
    "# Rename the columns for clarity\n",
    "combined_daily_returns.columns = ['AAPL','MSFT', 'GOOG', 'JNJ','PFE','UNH','JPM','BAC','V','AMZN','NKE','DIS','XOM','FSLR','NEE','LMT','RTX','NOC']\n",
    "\n",
    "# Display the combined DataFrame\n",
    "print(combined_daily_returns.head())\n",
    "\n",
    "# Set weights\n",
    "weights = [1/3, 1/3, 1/3]\n",
    "\n",
    "# Define a dictionary containing the daily returns for each sector\n",
    "daily_returns_dict = {\n",
    "    \"Tech\": tech_daily,\n",
    "    \"Health\": health_daily,\n",
    "    \"Finance\": finance_daily,\n",
    "    \"Consumer\": consumer_daily,\n",
    "    \"Energy\": energy_daily,\n",
    "    \"Weapons\": weapons_daily\n",
    "}\n",
    "\n",
    "# Create an empty dictionary to store the returns for each sector\n",
    "sector_returns = {}\n",
    "\n",
    "# Calculate the returns for each sector and store them in the dictionary\n",
    "for sector, combined_daily_returns in daily_returns_dict.items():\n",
    "    sector_returns[sector] = (weights * combined_daily_returns).sum(axis=1)\n",
    "\n",
    "# Create a DataFrame from the sector_returns dictionary\n",
    "returns_df = pd.DataFrame(sector_returns)\n",
    "\n",
    "# Display the DataFrame\n",
    "print(returns_df)"
   ]
  },
  {
   "cell_type": "markdown",
   "id": "f7aae5ac",
   "metadata": {},
   "source": [
    "# Risk Analysis Performance \n",
    "1. Cumulative Returns\n",
    "2. Annualized Standard Deviation \n",
    "3. Annualized Sharpe Ratios (Reward to Risk)\n",
    "4. Covariance and Variance \n",
    "5. BETA"
   ]
  },
  {
   "cell_type": "markdown",
   "id": "36d08f26",
   "metadata": {},
   "source": [
    "## Cumulative Returns"
   ]
  },
  {
   "cell_type": "code",
   "execution_count": null,
   "id": "980bb279",
   "metadata": {},
   "outputs": [],
   "source": [
    "cumulative_returns = (1 + returns_df).cumprod()\n",
    "\n",
    "# Export and save Cumulative Returns dataframe into a csv file \n",
    "cumulative_returns.to_csv('cumulative_returns_2022_2023csv', index=False)\n",
    "\n",
    "cumulative_returns.plot(figsize=(10, 6))  # Adjust figsize as needed\n",
    "plt.title('Cumulative Returns of Each Industry')\n",
    "plt.xlabel('Date')\n",
    "plt.ylabel('Cumulative Returns')\n",
    "plt.grid(True)\n",
    "plt.legend()\n",
    "plt.show()"
   ]
  },
  {
   "cell_type": "markdown",
   "id": "18352997",
   "metadata": {},
   "source": [
    "## Annualized Standard Deviation"
   ]
  },
  {
   "cell_type": "code",
   "execution_count": null,
   "id": "4d90ed70",
   "metadata": {},
   "outputs": [],
   "source": [
    "# Calculate the daily standard deviation \n",
    "daily_std_dev = np.std(returns_df)\n",
    "print(daily_std_dev)"
   ]
  },
  {
   "cell_type": "code",
   "execution_count": null,
   "id": "71d4da57",
   "metadata": {},
   "outputs": [],
   "source": [
    "# Calculate the annualized standard deviation (252 trading days)\n",
    "annualized_std = daily_std_dev * np.sqrt(252)\n",
    "\n",
    "# Plot the Annualized standard deviation\n",
    "annualized_std.plot.bar(figsize=(10, 6))  # Adjust figsize as needed\n",
    "plt.title('Annualized Standard Deviation of Each Industry')\n",
    "plt.xlabel('Industry')\n",
    "plt.ylabel('Annualized Standard Deviation')\n",
    "plt.grid(True)\n",
    "plt.legend()\n",
    "plt.show()"
   ]
  },
  {
   "cell_type": "markdown",
   "id": "77fb2009",
   "metadata": {},
   "source": [
    "# Sharpe Ratios "
   ]
  },
  {
   "cell_type": "code",
   "execution_count": null,
   "id": "d75dcbe1",
   "metadata": {},
   "outputs": [],
   "source": [
    "# Annualized Sharpe Ratios \n",
    "sharpe_ratios = (returns_df.mean() * 252) / (returns_df.std() * np.sqrt(252))\n",
    "sharpe_ratios \n",
    "\n",
    "# Visualize the sharpe ratios as a bar plot\n",
    "sharpe_ratios.plot(kind='bar', color='skyblue', figsize=(10, 6))\n",
    "\n",
    "# Customizing the plot\n",
    "plt.title('Sharpe Ratios of Each Industry (Nov 2022 to Oct 2023)')\n",
    "plt.xlabel('Industry')\n",
    "plt.ylabel('Sharpe Ratio')\n",
    "plt.xticks(rotation=45)  # Rotate x-axis labels for better readability\n",
    "plt.grid(axis='y', linestyle='--', alpha=0.7)  # Adding grid lines\n",
    "\n",
    "# Adding data labels\n",
    "for i, val in enumerate(sharpe_ratios.values):\n",
    "    plt.text(i, val, round(val, 2), ha='center', va='bottom')\n",
    "\n",
    "# Adding horizontal line at Sharpe ratio of 0 for reference\n",
    "plt.axhline(y=0, color='gray', linestyle='--', linewidth=0.5)\n",
    "\n",
    "# Show plot\n",
    "plt.tight_layout()  # Adjust layout to prevent clipping of labels\n",
    "plt.show()"
   ]
  },
  {
   "cell_type": "code",
   "execution_count": null,
   "id": "db236f25",
   "metadata": {},
   "outputs": [],
   "source": []
  }
 ],
 "metadata": {
  "kernelspec": {
   "display_name": "Python 3 (ipykernel)",
   "language": "python",
   "name": "python3"
  },
  "language_info": {
   "codemirror_mode": {
    "name": "ipython",
    "version": 3
   },
   "file_extension": ".py",
   "mimetype": "text/x-python",
   "name": "python",
   "nbconvert_exporter": "python",
   "pygments_lexer": "ipython3",
   "version": "3.11.5"
  }
 },
 "nbformat": 4,
 "nbformat_minor": 5
}
